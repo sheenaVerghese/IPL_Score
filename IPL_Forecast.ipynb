{
 "cells": [
  {
   "cell_type": "code",
   "execution_count": 1,
   "id": "eeeeff77-2505-4c45-8c09-014702608a12",
   "metadata": {},
   "outputs": [],
   "source": [
    "#following https://www.geeksforgeeks.org/ipl-score-prediction-using-deep-learning/?ref=rp\n",
    "import pandas as pd\n",
    "import numpy as np\n",
    "import matplotlib.pyplot as plt\n",
    "import seaborn as sns\n",
    "from sklearn import preprocessing\n",
    "import keras \n",
    "import tensorflow as tf"
   ]
  },
  {
   "cell_type": "code",
   "execution_count": 2,
   "id": "bd74edea-7d3f-4957-9a00-7a98a10fb14e",
   "metadata": {},
   "outputs": [],
   "source": [
    "ipl_df = pd.read_csv('./ipl_data.csv')"
   ]
  },
  {
   "cell_type": "code",
   "execution_count": null,
   "id": "92a6fc2a-2081-4daa-9101-789ed86db0d0",
   "metadata": {},
   "outputs": [],
   "source": [
    "ipl_df.head()"
   ]
  },
  {
   "cell_type": "code",
   "execution_count": 3,
   "id": "bb74717c-44c3-4925-ade0-0c6502c2fac8",
   "metadata": {},
   "outputs": [],
   "source": [
    "#Unimportant features\n",
    "ipl_df = ipl_df.drop(['date','runs','wickets','overs','runs_last_5','wickets_last_5','mid','striker','non-striker'],axis=1)\n"
   ]
  },
  {
   "cell_type": "code",
   "execution_count": 4,
   "id": "72b1e069-c26e-4fcd-bd8b-8b015d04ced6",
   "metadata": {},
   "outputs": [],
   "source": [
    "#Prediction is to predict the total \n",
    "train_x=ipl_df.drop(['total'],axis=1)\n",
    "train_y = ipl_df['total']\n",
    "\n"
   ]
  },
  {
   "cell_type": "code",
   "execution_count": 5,
   "id": "fc93375c-8015-419c-8408-ae9b451bb136",
   "metadata": {},
   "outputs": [
    {
     "data": {
      "text/html": [
       "<div>\n",
       "<style scoped>\n",
       "    .dataframe tbody tr th:only-of-type {\n",
       "        vertical-align: middle;\n",
       "    }\n",
       "\n",
       "    .dataframe tbody tr th {\n",
       "        vertical-align: top;\n",
       "    }\n",
       "\n",
       "    .dataframe thead th {\n",
       "        text-align: right;\n",
       "    }\n",
       "</style>\n",
       "<table border=\"1\" class=\"dataframe\">\n",
       "  <thead>\n",
       "    <tr style=\"text-align: right;\">\n",
       "      <th></th>\n",
       "      <th>venue</th>\n",
       "      <th>bat_team</th>\n",
       "      <th>bowl_team</th>\n",
       "      <th>batsman</th>\n",
       "      <th>bowler</th>\n",
       "    </tr>\n",
       "  </thead>\n",
       "  <tbody>\n",
       "    <tr>\n",
       "      <th>0</th>\n",
       "      <td>M Chinnaswamy Stadium</td>\n",
       "      <td>Kolkata Knight Riders</td>\n",
       "      <td>Royal Challengers Bangalore</td>\n",
       "      <td>SC Ganguly</td>\n",
       "      <td>P Kumar</td>\n",
       "    </tr>\n",
       "    <tr>\n",
       "      <th>1</th>\n",
       "      <td>M Chinnaswamy Stadium</td>\n",
       "      <td>Kolkata Knight Riders</td>\n",
       "      <td>Royal Challengers Bangalore</td>\n",
       "      <td>BB McCullum</td>\n",
       "      <td>P Kumar</td>\n",
       "    </tr>\n",
       "    <tr>\n",
       "      <th>2</th>\n",
       "      <td>M Chinnaswamy Stadium</td>\n",
       "      <td>Kolkata Knight Riders</td>\n",
       "      <td>Royal Challengers Bangalore</td>\n",
       "      <td>BB McCullum</td>\n",
       "      <td>P Kumar</td>\n",
       "    </tr>\n",
       "    <tr>\n",
       "      <th>3</th>\n",
       "      <td>M Chinnaswamy Stadium</td>\n",
       "      <td>Kolkata Knight Riders</td>\n",
       "      <td>Royal Challengers Bangalore</td>\n",
       "      <td>BB McCullum</td>\n",
       "      <td>P Kumar</td>\n",
       "    </tr>\n",
       "    <tr>\n",
       "      <th>4</th>\n",
       "      <td>M Chinnaswamy Stadium</td>\n",
       "      <td>Kolkata Knight Riders</td>\n",
       "      <td>Royal Challengers Bangalore</td>\n",
       "      <td>BB McCullum</td>\n",
       "      <td>P Kumar</td>\n",
       "    </tr>\n",
       "  </tbody>\n",
       "</table>\n",
       "</div>"
      ],
      "text/plain": [
       "                   venue               bat_team                    bowl_team  \\\n",
       "0  M Chinnaswamy Stadium  Kolkata Knight Riders  Royal Challengers Bangalore   \n",
       "1  M Chinnaswamy Stadium  Kolkata Knight Riders  Royal Challengers Bangalore   \n",
       "2  M Chinnaswamy Stadium  Kolkata Knight Riders  Royal Challengers Bangalore   \n",
       "3  M Chinnaswamy Stadium  Kolkata Knight Riders  Royal Challengers Bangalore   \n",
       "4  M Chinnaswamy Stadium  Kolkata Knight Riders  Royal Challengers Bangalore   \n",
       "\n",
       "       batsman   bowler  \n",
       "0   SC Ganguly  P Kumar  \n",
       "1  BB McCullum  P Kumar  \n",
       "2  BB McCullum  P Kumar  \n",
       "3  BB McCullum  P Kumar  \n",
       "4  BB McCullum  P Kumar  "
      ]
     },
     "execution_count": 5,
     "metadata": {},
     "output_type": "execute_result"
    }
   ],
   "source": [
    "train_x.head()"
   ]
  },
  {
   "cell_type": "code",
   "execution_count": 6,
   "id": "e68bc766-f8dc-45b6-9db6-fcdd74a6eecf",
   "metadata": {},
   "outputs": [],
   "source": [
    "#Label encoder\n",
    "\n",
    "from sklearn.preprocessing import LabelEncoder\n",
    "from sklearn.model_selection import train_test_split\n",
    "from sklearn.preprocessing import MinMaxScaler\n",
    "from sklearn.metrics import mean_absolute_error, mean_squared_error"
   ]
  },
  {
   "cell_type": "code",
   "execution_count": 7,
   "id": "0485a2ff-6823-4828-950e-3d20c9d71ca6",
   "metadata": {},
   "outputs": [],
   "source": [
    "#Encoder for categorical data\n",
    "#Initialisation\n",
    "venue = LabelEncoder()\n",
    "batting_team = LabelEncoder()\n",
    "bowling_team = LabelEncoder()\n",
    "batter = LabelEncoder()\n",
    "bowler=LabelEncoder()"
   ]
  },
  {
   "cell_type": "code",
   "execution_count": 8,
   "id": "6ee0b592-00af-4b29-9be4-c019946ec12a",
   "metadata": {},
   "outputs": [],
   "source": [
    "#Transform the categorical variable with label encoding\n",
    "train_x['venue'] = venue.fit_transform(train_x['venue'])\n",
    "train_x['bat_team'] = batting_team.fit_transform(train_x['bat_team'])\n",
    "train_x['bowl_team'] = bowling_team.fit_transform(train_x['bowl_team'])\n",
    "train_x['batsman']  = batter.fit_transform(train_x['batsman'])\n",
    "train_x['bowler'] = bowler.fit_transform(train_x['bowler'])"
   ]
  },
  {
   "cell_type": "code",
   "execution_count": 19,
   "id": "18b77923-7eaa-4925-a1f6-d40852d097cb",
   "metadata": {},
   "outputs": [],
   "source": [
    "\n",
    "X_train, X_test, Y_train, Y_test = train_test_split(train_x,train_y,test_size=0.3, random_state=42)"
   ]
  },
  {
   "cell_type": "code",
   "execution_count": 20,
   "id": "5ffee370-b629-47dd-ad9f-313c0560c0d9",
   "metadata": {},
   "outputs": [],
   "source": [
    "#Feature Scaling\n",
    "scaler=MinMaxScaler()\n",
    "\n",
    "#fit scaler on training data\n",
    "\n",
    "X_train_scale = scaler.fit_transform(X_train)\n",
    "X_test_scale = scaler.fit_transform(X_test)"
   ]
  },
  {
   "cell_type": "code",
   "execution_count": 21,
   "id": "e25838d7-f753-406d-becc-45445328a816",
   "metadata": {},
   "outputs": [],
   "source": [
    "#Define NN\n",
    "#(X_train_scale.shape[1] -> gets the column number\n",
    "model = keras.Sequential([\n",
    "    keras.layers.Input(shape=(X_train_scale.shape[1],)),\n",
    "    keras.layers.Dense(512,activation='relu'),\n",
    "    keras.layers.Dense(216,activation='relu'),\n",
    "    keras.layers.Dense(1,activation='linear')\n",
    "])\n",
    "#Huber loss function\n",
    "huber_loss = tf.keras.losses.Huber(delta=1.0)\n",
    "model.compile(optimizer='adam',loss =huber_loss)\n"
   ]
  },
  {
   "cell_type": "code",
   "execution_count": 22,
   "id": "dd7bf383-92a2-4a38-ae7a-a2c97a4e47d2",
   "metadata": {},
   "outputs": [
    {
     "name": "stdout",
     "output_type": "stream",
     "text": [
      "Epoch 1/20\n",
      "\u001b[1m1663/1663\u001b[0m \u001b[32m━━━━━━━━━━━━━━━━━━━━\u001b[0m\u001b[37m\u001b[0m \u001b[1m5s\u001b[0m 2ms/step - loss: 42.4615 - val_loss: 22.1024\n",
      "Epoch 2/20\n",
      "\u001b[1m1663/1663\u001b[0m \u001b[32m━━━━━━━━━━━━━━━━━━━━\u001b[0m\u001b[37m\u001b[0m \u001b[1m4s\u001b[0m 2ms/step - loss: 22.4442 - val_loss: 22.1011\n",
      "Epoch 3/20\n",
      "\u001b[1m1663/1663\u001b[0m \u001b[32m━━━━━━━━━━━━━━━━━━━━\u001b[0m\u001b[37m\u001b[0m \u001b[1m4s\u001b[0m 2ms/step - loss: 22.4579 - val_loss: 22.1524\n",
      "Epoch 4/20\n",
      "\u001b[1m1663/1663\u001b[0m \u001b[32m━━━━━━━━━━━━━━━━━━━━\u001b[0m\u001b[37m\u001b[0m \u001b[1m4s\u001b[0m 2ms/step - loss: 22.3338 - val_loss: 21.9410\n",
      "Epoch 5/20\n",
      "\u001b[1m1663/1663\u001b[0m \u001b[32m━━━━━━━━━━━━━━━━━━━━\u001b[0m\u001b[37m\u001b[0m \u001b[1m4s\u001b[0m 2ms/step - loss: 22.1916 - val_loss: 22.7311\n",
      "Epoch 6/20\n",
      "\u001b[1m1663/1663\u001b[0m \u001b[32m━━━━━━━━━━━━━━━━━━━━\u001b[0m\u001b[37m\u001b[0m \u001b[1m4s\u001b[0m 2ms/step - loss: 22.1310 - val_loss: 21.8202\n",
      "Epoch 7/20\n",
      "\u001b[1m1663/1663\u001b[0m \u001b[32m━━━━━━━━━━━━━━━━━━━━\u001b[0m\u001b[37m\u001b[0m \u001b[1m4s\u001b[0m 2ms/step - loss: 22.4009 - val_loss: 21.8622\n",
      "Epoch 8/20\n",
      "\u001b[1m1663/1663\u001b[0m \u001b[32m━━━━━━━━━━━━━━━━━━━━\u001b[0m\u001b[37m\u001b[0m \u001b[1m4s\u001b[0m 2ms/step - loss: 22.1346 - val_loss: 21.8078\n",
      "Epoch 9/20\n",
      "\u001b[1m1663/1663\u001b[0m \u001b[32m━━━━━━━━━━━━━━━━━━━━\u001b[0m\u001b[37m\u001b[0m \u001b[1m3s\u001b[0m 2ms/step - loss: 22.2597 - val_loss: 21.8924\n",
      "Epoch 10/20\n",
      "\u001b[1m1663/1663\u001b[0m \u001b[32m━━━━━━━━━━━━━━━━━━━━\u001b[0m\u001b[37m\u001b[0m \u001b[1m3s\u001b[0m 2ms/step - loss: 22.0012 - val_loss: 21.6924\n",
      "Epoch 11/20\n",
      "\u001b[1m1663/1663\u001b[0m \u001b[32m━━━━━━━━━━━━━━━━━━━━\u001b[0m\u001b[37m\u001b[0m \u001b[1m4s\u001b[0m 2ms/step - loss: 21.9357 - val_loss: 21.9297\n",
      "Epoch 12/20\n",
      "\u001b[1m1663/1663\u001b[0m \u001b[32m━━━━━━━━━━━━━━━━━━━━\u001b[0m\u001b[37m\u001b[0m \u001b[1m4s\u001b[0m 2ms/step - loss: 21.8522 - val_loss: 21.5078\n",
      "Epoch 13/20\n",
      "\u001b[1m1663/1663\u001b[0m \u001b[32m━━━━━━━━━━━━━━━━━━━━\u001b[0m\u001b[37m\u001b[0m \u001b[1m4s\u001b[0m 2ms/step - loss: 21.8106 - val_loss: 21.5025\n",
      "Epoch 14/20\n",
      "\u001b[1m1663/1663\u001b[0m \u001b[32m━━━━━━━━━━━━━━━━━━━━\u001b[0m\u001b[37m\u001b[0m \u001b[1m4s\u001b[0m 2ms/step - loss: 21.8875 - val_loss: 21.3955\n",
      "Epoch 15/20\n",
      "\u001b[1m1663/1663\u001b[0m \u001b[32m━━━━━━━━━━━━━━━━━━━━\u001b[0m\u001b[37m\u001b[0m \u001b[1m4s\u001b[0m 2ms/step - loss: 21.8005 - val_loss: 21.3407\n",
      "Epoch 16/20\n",
      "\u001b[1m1663/1663\u001b[0m \u001b[32m━━━━━━━━━━━━━━━━━━━━\u001b[0m\u001b[37m\u001b[0m \u001b[1m4s\u001b[0m 3ms/step - loss: 21.5997 - val_loss: 21.1450\n",
      "Epoch 17/20\n",
      "\u001b[1m1663/1663\u001b[0m \u001b[32m━━━━━━━━━━━━━━━━━━━━\u001b[0m\u001b[37m\u001b[0m \u001b[1m4s\u001b[0m 2ms/step - loss: 21.4656 - val_loss: 21.1133\n",
      "Epoch 18/20\n",
      "\u001b[1m1663/1663\u001b[0m \u001b[32m━━━━━━━━━━━━━━━━━━━━\u001b[0m\u001b[37m\u001b[0m \u001b[1m3s\u001b[0m 2ms/step - loss: 21.3177 - val_loss: 20.9973\n",
      "Epoch 19/20\n",
      "\u001b[1m1663/1663\u001b[0m \u001b[32m━━━━━━━━━━━━━━━━━━━━\u001b[0m\u001b[37m\u001b[0m \u001b[1m3s\u001b[0m 2ms/step - loss: 21.3176 - val_loss: 20.8757\n",
      "Epoch 20/20\n",
      "\u001b[1m1663/1663\u001b[0m \u001b[32m━━━━━━━━━━━━━━━━━━━━\u001b[0m\u001b[37m\u001b[0m \u001b[1m3s\u001b[0m 2ms/step - loss: 21.2014 - val_loss: 20.7896\n"
     ]
    },
    {
     "data": {
      "text/plain": [
       "<keras.src.callbacks.history.History at 0x1e84f458fa0>"
      ]
     },
     "execution_count": 22,
     "metadata": {},
     "output_type": "execute_result"
    }
   ],
   "source": [
    "model.fit(X_train_scale,Y_train,epochs=20,batch_size=32,validation_data=(X_test_scale,Y_test))"
   ]
  },
  {
   "cell_type": "code",
   "execution_count": null,
   "id": "5326203f-3aa7-42f2-b7c4-95e51162daac",
   "metadata": {},
   "outputs": [],
   "source": []
  },
  {
   "cell_type": "code",
   "execution_count": 23,
   "id": "2c2f6465-1403-46a6-a6ff-62378c19b2b5",
   "metadata": {},
   "outputs": [
    {
     "data": {
      "text/plain": [
       "<Axes: >"
      ]
     },
     "execution_count": 23,
     "metadata": {},
     "output_type": "execute_result"
    },
    {
     "data": {
      "image/png": "[encoded data removed]",
      "text/plain": [
       "<Figure size 640x480 with 1 Axes>"
      ]
     },
     "metadata": {},
     "output_type": "display_data"
    }
   ],
   "source": [
    "model_loss = pd.DataFrame(model.history.history)\n",
    "model_loss.plot()"
   ]
  },
  {
   "cell_type": "code",
   "execution_count": 24,
   "id": "69d24c51-fe5f-47b2-b60d-d335e1dd4317",
   "metadata": {},
   "outputs": [
    {
     "name": "stdout",
     "output_type": "stream",
     "text": [
      "\u001b[1m713/713\u001b[0m \u001b[32m━━━━━━━━━━━━━━━━━━━━\u001b[0m\u001b[37m\u001b[0m \u001b[1m1s\u001b[0m 1ms/step\n"
     ]
    },
    {
     "data": {
      "text/plain": [
       "21.283058465256342"
      ]
     },
     "execution_count": 24,
     "metadata": {},
     "output_type": "execute_result"
    }
   ],
   "source": [
    "#Predict\n",
    "preds = model.predict(X_test_scale)\n",
    "\n",
    "mean_absolute_error(Y_test,preds)"
   ]
  },
  {
   "cell_type": "code",
   "execution_count": 33,
   "id": "5a5c3793-21c9-488a-b355-f66b73895072",
   "metadata": {},
   "outputs": [],
   "source": [
    "#Create interactive widget\n",
    "import ipywidgets as widgets\n",
    "from IPython.display import display,clear_output\n",
    "\n",
    "import warnings\n",
    "warnings.filterwarnings(\"ignore\")\n",
    "\n",
    "venue_picker = widgets.Dropdown(options=ipl_df['venue'].unique().tolist(),description = 'Venue')\n",
    "bat_team_picker = widgets.Dropdown(options=ipl_df['bat_team'].unique().tolist(),description ='Select Batting Team')\n",
    "bowl_team_picker = widgets.Dropdown(options=ipl_df['bowl_team'].unique().tolist(),description ='Select Bowling Team')\n",
    "batsman_picker = widgets.Dropdown(options=ipl_df['batsman'].unique().tolist(),description ='Select Batsman')\n",
    "bowler_picker = widgets.Dropdown(options=ipl_df['bowler'].unique().tolist(),description ='Select Bowler')\n",
    "\n",
    "predict_button = widgets.Button(description =\"Predict Score\")\n",
    "\n",
    "def predict_score(value):\n",
    "\n",
    "    with output:\n",
    "        clear_output()\n",
    "        decoded_venue =venue.transform([venue_picker.value])\n",
    "        decoded_bat_team =batting_team.transform([bat_team_picker.value])\n",
    "        decoded_bowling =bowling_team.transform([bowl_team_picker.value])\n",
    "        decoded_bowler =bowler.transform([bowler_picker.value])\n",
    "        decoded_batter = batter.transform([batsman_picker.value])\n",
    "        input = np.array([decoded_venue,decoded_bat_team,decoded_bowling,decoded_bowler,decoded_batter])\n",
    "        input=input.reshape(1,5)\n",
    "        input=scaler.transform(input)\n",
    "        predicted_score=model.predict(input)\n",
    "        predicted_score=int(predicted_score[0,0])\n",
    "        print(predicted_score)\n",
    "\n",
    "\n",
    "\n",
    "\n",
    "\n",
    "\n",
    "\n",
    "\n",
    "\n",
    "        \n",
    "\n",
    "\n"
   ]
  },
  {
   "cell_type": "code",
   "execution_count": 34,
   "id": "15557a73-12d2-4318-9472-1ab825bf511a",
   "metadata": {},
   "outputs": [
    {
     "data": {
      "application/vnd.jupyter.widget-view+json": {
       "model_id": "c0699582114841bda4c6602b14f42200",
       "version_major": 2,
       "version_minor": 0
      },
      "text/plain": [
       "Dropdown(description='Venue', options=('M Chinnaswamy Stadium', 'Punjab Cricket Association Stadium, Mohali', …"
      ]
     },
     "metadata": {},
     "output_type": "display_data"
    },
    {
     "data": {
      "application/vnd.jupyter.widget-view+json": {
       "model_id": "67d9802d48454635bacb1b2b6a4b8179",
       "version_major": 2,
       "version_minor": 0
      },
      "text/plain": [
       "Dropdown(description='Select Batting Team', options=('Kolkata Knight Riders', 'Chennai Super Kings', 'Rajastha…"
      ]
     },
     "metadata": {},
     "output_type": "display_data"
    },
    {
     "data": {
      "application/vnd.jupyter.widget-view+json": {
       "model_id": "01a4ce6a513b440f9ab80496e238108e",
       "version_major": 2,
       "version_minor": 0
      },
      "text/plain": [
       "Dropdown(description='Select Bowling Team', options=('Royal Challengers Bangalore', 'Kings XI Punjab', 'Delhi …"
      ]
     },
     "metadata": {},
     "output_type": "display_data"
    },
    {
     "data": {
      "application/vnd.jupyter.widget-view+json": {
       "model_id": "6e740fb08ea24664914f50d172c2a91d",
       "version_major": 2,
       "version_minor": 0
      },
      "text/plain": [
       "Dropdown(description='Select Batsman', options=('SC Ganguly', 'BB McCullum', 'RT Ponting', 'DJ Hussey', 'Moham…"
      ]
     },
     "metadata": {},
     "output_type": "display_data"
    },
    {
     "data": {
      "application/vnd.jupyter.widget-view+json": {
       "model_id": "0991a032a0d349309e2a60ed4948a30a",
       "version_major": 2,
       "version_minor": 0
      },
      "text/plain": [
       "Dropdown(description='Select Bowler', options=('P Kumar', 'Z Khan', 'AA Noffke', 'JH Kallis', 'SB Joshi', 'CL …"
      ]
     },
     "metadata": {},
     "output_type": "display_data"
    },
    {
     "data": {
      "application/vnd.jupyter.widget-view+json": {
       "model_id": "3195a6e3aedc45d280a0c88b85bed984",
       "version_major": 2,
       "version_minor": 0
      },
      "text/plain": [
       "Button(description='Predict Score', style=ButtonStyle())"
      ]
     },
     "metadata": {},
     "output_type": "display_data"
    },
    {
     "data": {
      "application/vnd.jupyter.widget-view+json": {
       "model_id": "366a49cc354c46a4a07d9881413d402f",
       "version_major": 2,
       "version_minor": 0
      },
      "text/plain": [
       "Output()"
      ]
     },
     "metadata": {},
     "output_type": "display_data"
    }
   ],
   "source": [
    "#Initialise the widget\n",
    "\n",
    "predict_button.on_click(predict_score)\n",
    "output =widgets.Output()\n",
    "display(venue_picker,bat_team_picker,bowl_team_picker,batsman_picker,bowler_picker,predict_button,output)"
   ]
  }
 ],
 "metadata": {
  "kernelspec": {
   "display_name": "Python 3 (ipykernel)",
   "language": "python",
   "name": "python3"
  },
  "language_info": {
   "codemirror_mode": {
    "name": "ipython",
    "version": 3
   },
   "file_extension": ".py",
   "mimetype": "text/x-python",
   "name": "python",
   "nbconvert_exporter": "python",
   "pygments_lexer": "ipython3",
   "version": "3.9.19"
  }
 },
 "nbformat": 4,
 "nbformat_minor": 5
}
